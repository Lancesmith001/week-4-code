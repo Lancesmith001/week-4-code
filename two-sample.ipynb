{
 "cells": [
  {
   "cell_type": "code",
   "execution_count": 8,
   "metadata": {},
   "outputs": [],
   "source": [
    "import scipy.stats as scs"
   ]
  },
  {
   "cell_type": "code",
   "execution_count": 16,
   "metadata": {},
   "outputs": [],
   "source": [
    "def two_sample_hyp_test(xbar_a, xbar_b, n_a, n_b, s_a, s_b, alpha, tails):\n",
    "    se = (((s_a ** 2)/n_a) + ((s_b ** 2)/n_b)) ** 0.5\n",
    "    z = abs((xbar_a - xbar_b) / se)\n",
    "    zcr = abs(scs.norm(0, 1).ppf(alpha/tails))\n",
    "    return z > zcr, z, zcr"
   ]
  },
  {
   "cell_type": "code",
   "execution_count": 17,
   "metadata": {},
   "outputs": [
    {
     "data": {
      "text/plain": [
       "(True, 3.0931224788556015, 1.880793608151251)"
      ]
     },
     "execution_count": 17,
     "metadata": {},
     "output_type": "execute_result"
    }
   ],
   "source": [
    "two_sample_hyp_test(9.31, 7.40, 100, 100, 4.67, 4.04, 0.03, 1)"
   ]
  },
  {
   "cell_type": "code",
   "execution_count": null,
   "metadata": {},
   "outputs": [],
   "source": []
  }
 ],
 "metadata": {
  "kernelspec": {
   "display_name": "Python 3",
   "language": "python",
   "name": "python3"
  },
  "language_info": {
   "codemirror_mode": {
    "name": "ipython",
    "version": 3
   },
   "file_extension": ".py",
   "mimetype": "text/x-python",
   "name": "python",
   "nbconvert_exporter": "python",
   "pygments_lexer": "ipython3",
   "version": "3.7.2"
  }
 },
 "nbformat": 4,
 "nbformat_minor": 2
}
